{
 "cells": [
  {
   "cell_type": "markdown",
   "id": "772ac0b5-2d1b-4e83-aa1c-d647de8eb7a6",
   "metadata": {},
   "source": [
    "### En este cuaderno, se resumen las herramientas y ecosistemas de ciencia de datos."
   ]
  },
  {
   "cell_type": "markdown",
   "id": "df21168e-d616-421c-9a22-da79c3eb1e80",
   "metadata": {},
   "source": [
    "Data Science Tools and Ecosystem"
   ]
  },
  {
   "cell_type": "markdown",
   "id": "24f1ae88-70b8-4185-b2df-6bf4889bbea9",
   "metadata": {},
   "source": [
    "Algunos de los lenguajes populares que utilizan los científicos de datos son"
   ]
  },
  {
   "cell_type": "code",
   "execution_count": null,
   "id": "d646bb52-2338-4a7a-bb6c-c4801e43a3d1",
   "metadata": {},
   "outputs": [],
   "source": [
    "1. Python\n",
    "2. R\n",
    "3.SQL\n",
    "4.Julia"
   ]
  },
  {
   "cell_type": "markdown",
   "id": "90e63f25-3885-4f50-8fd3-a768d0c2b026",
   "metadata": {},
   "source": [
    "### Algunas de las bibliotecas comúnmente utilizadas por los científicos de datos incluyen:"
   ]
  },
  {
   "cell_type": "code",
   "execution_count": null,
   "id": "21f32e23-90e6-426f-84be-5793d42f3d04",
   "metadata": {},
   "outputs": [],
   "source": [
    "1. Pandas\n",
    "2. NumPy\n",
    "3. Scikit\n",
    "4. TensorFlow\n",
    "5. Matplotlib"
   ]
  },
  {
   "cell_type": "markdown",
   "id": "f8c9fafc-f422-40a6-bcfc-7ac28a7b89bf",
   "metadata": {},
   "source": [
    "### Herramientas de Ciencia de Datos\n",
    "\n",
    "| Herramientas de Ciencia de Datos |\n",
    "|----------------------------------|\n",
    "| Jupyter Notebook |\n",
    "| RStudio |\n",
    "| Apache Spark |\n"
   ]
  },
  {
   "cell_type": "markdown",
   "id": "6545783f-091f-419e-9813-26f5f0ab0626",
   "metadata": {},
   "source": [
    "\n",
    "### A continuación, se presentan algunos ejemplos de evaluación de expresiones aritméticas en Python.\n"
   ]
  },
  {
   "cell_type": "code",
   "execution_count": 8,
   "id": "f0e186f5-ad1a-43b0-8b27-30913e23cc10",
   "metadata": {},
   "outputs": [
    {
     "data": {
      "text/plain": [
       "17"
      ]
     },
     "execution_count": 8,
     "metadata": {},
     "output_type": "execute_result"
    }
   ],
   "source": [
    "(3*4)+5"
   ]
  },
  {
   "cell_type": "markdown",
   "id": "73e49930-3b69-4224-8f62-c9d84c618803",
   "metadata": {},
   "source": [
    "### celda de codgio  para convertir minutos"
   ]
  },
  {
   "cell_type": "code",
   "execution_count": null,
   "id": "d07702d7-7955-4f3c-8807-409f29c5a3a7",
   "metadata": {},
   "outputs": [],
   "source": [
    "# esto convertira 200 minutos a horas dividiendo por 60"
   ]
  },
  {
   "cell_type": "code",
   "execution_count": 14,
   "id": "f66529c5-e0c4-41e5-bfeb-7ac1a35176cd",
   "metadata": {},
   "outputs": [
    {
     "data": {
      "text/plain": [
       "3.3333333333333335"
      ]
     },
     "execution_count": 14,
     "metadata": {},
     "output_type": "execute_result"
    }
   ],
   "source": [
    "200/60"
   ]
  },
  {
   "cell_type": "markdown",
   "id": "c4a62f56-3b33-4f4b-af0c-ff3a555232c7",
   "metadata": {},
   "source": [
    "**Objetivos:**\n",
    "\n",
    "- Listar lenguajes populares para Ciencia de Datos  \n",
    "- Identificar bibliotecas usadas en Ciencia de Datos  \n",
    "- Presentar herramientas de Ciencia de Datos  \n",
    "- Evaluar expresiones aritméticas en Python  \n",
    "- Convertir unidades de tiempo usando Python  \n",
    "\n"
   ]
  },
  {
   "cell_type": "markdown",
   "id": "7c4d9af3-4eb9-4e5c-adeb-1ab93a77cfd1",
   "metadata": {},
   "source": [
    "## Autor\n",
    "\n",
    "Julian Daniel López Cano \n"
   ]
  },
  {
   "cell_type": "code",
   "execution_count": null,
   "id": "6d3b2475-e098-4388-83dd-01e1154f630b",
   "metadata": {},
   "outputs": [],
   "source": []
  }
 ],
 "metadata": {
  "kernelspec": {
   "display_name": "Python [conda env:base] *",
   "language": "python",
   "name": "conda-base-py"
  },
  "language_info": {
   "codemirror_mode": {
    "name": "ipython",
    "version": 3
   },
   "file_extension": ".py",
   "mimetype": "text/x-python",
   "name": "python",
   "nbconvert_exporter": "python",
   "pygments_lexer": "ipython3",
   "version": "3.12.7"
  }
 },
 "nbformat": 4,
 "nbformat_minor": 5
}
